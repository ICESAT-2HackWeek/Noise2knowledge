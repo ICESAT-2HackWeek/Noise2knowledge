{
 "cells": [
  {
   "cell_type": "markdown",
   "metadata": {
    "slideshow": {
     "slide_type": "slide"
    }
   },
   "source": [
    "# \\#Waternoice\n",
    "\n",
    "## Original Science Question: How does the distribution of ATL03 photon returns over interesting water features vary from the surrounding landscape?\n",
    "- Use the noise and confidence parameters of photon cloud data from ATL03 data  to investigate near-surface properties of interesting perennial melt features on ice sheets.\n",
    "- dig into the data over several unique surfaces in both Antarctica and Greenland\n",
    "\n",
    "# Team members\n",
    "## Michalea King (Ohio State), Kristin Poinar (Univ. of Buffalo), Jessica Scheick (Univ. of Maine), Raphael Hagen (University of Washington), Devon Dunmire (Univ. of CU Boulder), Zach Fair (University of Michigan), Matthew Siegfried: Data Science Lead (Colorado School of Mines)"
   ]
  },
  {
   "cell_type": "markdown",
   "metadata": {
    "slideshow": {
     "slide_type": "slide"
    }
   },
   "source": [
    "# Antarctic Study Sites\n",
    "\n",
    "## 1) Megadunes\n",
    "\n",
    "## Can we use ATL06 to visualize megadunes\n",
    "\n",
    "Imagery | ICESat 1\n",
    "- | - \n",
    "![alt](megadune_struct.jpg) | ![alt](icesat1_overpass_dunes.jpg)\n",
    "\n",
    "\n",
    "https://nsidc.org/cryosphere/antarctica/megadunes/dunes.html\n"
   ]
  },
  {
   "cell_type": "markdown",
   "metadata": {
    "slideshow": {
     "slide_type": "slide"
    }
   },
   "source": [
    "![alt text](along_track_megadunes.png \"Antarctic Megadunes\")"
   ]
  },
  {
   "cell_type": "code",
   "execution_count": 5,
   "metadata": {
    "slideshow": {
     "slide_type": "slide"
    }
   },
   "outputs": [
    {
     "data": {
      "text/html": [
       "<iframe src=\"megadunes.html\"  frameborder = 0  height=\"500px\" width=\"100%\">></iframe"
      ],
      "text/plain": [
       "<IPython.core.display.HTML object>"
      ]
     },
     "execution_count": 5,
     "metadata": {},
     "output_type": "execute_result"
    }
   ],
   "source": [
    "\n",
    "\n",
    "from IPython.display import HTML\n",
    "HTML('<iframe src=\"megadunes.html\"  frameborder = 0  height=\"500px\" width=\"100%\">></iframe')"
   ]
  },
  {
   "cell_type": "markdown",
   "metadata": {
    "slideshow": {
     "slide_type": "slide"
    }
   },
   "source": [
    "# Antarctic Study Sites\n",
    "\n",
    "## 2) Nivlisen Ice Shelf\n"
   ]
  },
  {
   "cell_type": "markdown",
   "metadata": {
    "slideshow": {
     "slide_type": "slide"
    }
   },
   "source": [
    "## Melt Ponds, ATL03 High Confidence Photons\n",
    "\n",
    "![alt text](atl03_water.png \"atl03_water\")\n"
   ]
  },
  {
   "cell_type": "markdown",
   "metadata": {
    "slideshow": {
     "slide_type": "slide"
    }
   },
   "source": [
    "# Antarctic Study Sites\n",
    "\n",
    "## 2) Amery Ice Shelf\n",
    "![alt text](amery_ice_track.PNG \"amery_ice_track\")\n"
   ]
  },
  {
   "cell_type": "markdown",
   "metadata": {
    "slideshow": {
     "slide_type": "subslide"
    }
   },
   "source": [
    "![alt text](amery_modis.png \"amery_modis\")"
   ]
  },
  {
   "cell_type": "markdown",
   "metadata": {
    "slideshow": {
     "slide_type": "slide"
    }
   },
   "source": [
    "## Melt Pond, All High Confidence Photons\n",
    "\n",
    "\n",
    "![alt text](cs1_all_high.PNG \"cs1_all_high\")\n"
   ]
  },
  {
   "cell_type": "markdown",
   "metadata": {
    "slideshow": {
     "slide_type": "slide"
    }
   },
   "source": [
    "## Melt Pond, High Confidence Photons, Land Ice Class\n",
    "\n",
    "![alt text](cs1_li_high.PNG \"cs1_li_high\")"
   ]
  },
  {
   "cell_type": "markdown",
   "metadata": {
    "slideshow": {
     "slide_type": "slide"
    }
   },
   "source": [
    "## Melt Pond, High/Low Confidence Photons, Land Ice Class\n",
    "\n",
    "![alt text](cs1_li_high_low.PNG \"cs1_li_high_low\")\n"
   ]
  },
  {
   "cell_type": "markdown",
   "metadata": {
    "slideshow": {
     "slide_type": "slide"
    }
   },
   "source": [
    "## Melt Pond, Background Rates\n",
    "\n",
    "![alt text](cs1_bckgrd_high.PNG \"cs1_background_high\")\n"
   ]
  },
  {
   "cell_type": "markdown",
   "metadata": {
    "slideshow": {
     "slide_type": "slide"
    }
   },
   "source": [
    "\n",
    "# Greenland Study Sites\n",
    "\n",
    "\n",
    "\n"
   ]
  },
  {
   "cell_type": "markdown",
   "metadata": {
    "slideshow": {
     "slide_type": "slide"
    }
   },
   "source": [
    "# Greenland Study Sites\n",
    "\n",
    "## 1) Rink Glacier"
   ]
  },
  {
   "cell_type": "markdown",
   "metadata": {
    "slideshow": {
     "slide_type": "slide"
    }
   },
   "source": [
    "\n",
    "Zoomed Rink | Sentinel-1\n",
    "- | - \n",
    "![alt](rink.png) | ![alt](zoomed_rink.png)\n",
    "\n"
   ]
  },
  {
   "cell_type": "markdown",
   "metadata": {
    "slideshow": {
     "slide_type": "slide"
    }
   },
   "source": [
    "# Narrowing of photon distribution over melt pond surface\n",
    "![alt text](store_std.png \"store glacier\")\n"
   ]
  },
  {
   "cell_type": "markdown",
   "metadata": {
    "slideshow": {
     "slide_type": "slide"
    }
   },
   "source": [
    "# However, unlike liquid phas supraglacier lakesin Antarctic, no significant reduction in background count rate over pond. \n",
    "\n",
    "![alt text](store_ground.png \"store glacier ground\")\n"
   ]
  },
  {
   "cell_type": "markdown",
   "metadata": {
    "slideshow": {
     "slide_type": "slide"
    }
   },
   "source": [
    "# We cross-referenced Sentinal-1 (SAR) and -2 (optical imagery) to learn more about the processes occuring near the surface\n",
    "## July: liquid supraglacial ponding; appears as low backscatter in Sentinel-1\n",
    "\n",
    "\n",
    "Zoomed Rink | Sentinel-1\n",
    "- | - \n",
    "![alt](zoomed_rink.png) | ![alt](sentinel-1_july.png)\n",
    "\n",
    "\n"
   ]
  },
  {
   "cell_type": "markdown",
   "metadata": {
    "slideshow": {
     "slide_type": "slide"
    }
   },
   "source": [
    "# October: Freeze over and blowing snow/accumulation obscures melt pond in optical imagery.\n",
    "\n",
    "\n",
    "Zoomed Rink Oct. | Sentinel-1 Oct.\n",
    "- | - \n",
    "![alt](rink_october.png) | ![alt](sentinel-1_october.png)\n",
    "\n",
    "\n"
   ]
  },
  {
   "cell_type": "markdown",
   "metadata": {
    "slideshow": {
     "slide_type": "slide"
    }
   },
   "source": [
    "\n",
    "\n",
    "# melt pond appears as high backscatter in SAR image\n",
    "## Interpretation: lake drainage and freezeover; possibly leaving behind slush/wet snow OR ice lense layer shallow enough to be detected by SAR\n",
    "\n",
    "Miles, K. E., Willis, I. C., Benedek, C. L., Williamson, A. G. and Tedesco, M.: Toward Monitoring Surface and Subsurface Lakes on the Greenland Ice Sheet Using Sentinel-1 SAR and Landsat-8 OLI Imagery, Front. Earth Sci., 5(July), 1–17, doi:10.3389/feart.2017.00058, 2017.\n",
    "<img style=\"float: left;height: 100px;width:300px;\" src=\"citation.png\">"
   ]
  },
  {
   "cell_type": "markdown",
   "metadata": {
    "slideshow": {
     "slide_type": "slide"
    }
   },
   "source": [
    "# melt pond appears as high backscatter in SAR image\n",
    "## What surface or subsurface properties cause reduced photon variance over melt ponds?\n",
    "## Possible future consideration: Examine residual histograms\n",
    "\n",
    "\n",
    "Sentinel-1 Dec. | Store Glacier std. Dec.\n",
    "- | - \n",
    "![alt](sentinel-1_december.png) | ![alt](store_std.png)\n",
    "\n",
    "\n",
    "\n",
    "\n"
   ]
  },
  {
   "cell_type": "markdown",
   "metadata": {
    "slideshow": {
     "slide_type": "slide"
    }
   },
   "source": [
    "# Main takeaways\n",
    "## - As expected, ATL03 photo cloud can map shallow melt pond bottoms. \n",
    "## - Reduced background photon count over liquid water\n",
    "## - In Greenland, narrow photon bands over frozen meltwater ponds. \n",
    "## - in SE Greenland, liquid water at the near-surface (firn aquifer seeps) may or may not have a signature in ATL03."
   ]
  }
 ],
 "metadata": {
  "celltoolbar": "Slideshow",
  "kernelspec": {
   "display_name": "Python 3",
   "language": "python",
   "name": "python3"
  },
  "language_info": {
   "codemirror_mode": {
    "name": "ipython",
    "version": 3
   },
   "file_extension": ".py",
   "mimetype": "text/x-python",
   "name": "python",
   "nbconvert_exporter": "python",
   "pygments_lexer": "ipython3",
   "version": "3.7.3"
  }
 },
 "nbformat": 4,
 "nbformat_minor": 2
}
