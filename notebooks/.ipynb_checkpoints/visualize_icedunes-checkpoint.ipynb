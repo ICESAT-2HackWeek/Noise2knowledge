{
 "cells": [
  {
   "cell_type": "code",
   "execution_count": 22,
   "metadata": {},
   "outputs": [],
   "source": [
    "import pandas as pd\n",
    "import geopandas as gpd\n",
    "import h5py\n",
    "import glob\n",
    "import os\n",
    "import matplotlib.pyplot as plt\n",
    "from bokeh.plotting import figure, output_file, show\n",
    "from bokeh.models import ColumnDataSource, LinearColorMapper\n"
   ]
  },
  {
   "cell_type": "code",
   "execution_count": 23,
   "metadata": {},
   "outputs": [
    {
     "data": {
      "text/plain": [
       "'\\n\\ngtl1\\ngtr1\\ngtl2\\ngtr2\\ngtl3\\ngtr3\\n\\n'"
      ]
     },
     "execution_count": 23,
     "metadata": {},
     "output_type": "execute_result"
    }
   ],
   "source": [
    "\"\"\"\n",
    "\n",
    "gtl1\n",
    "gtr1\n",
    "gtl2\n",
    "gtr2\n",
    "gtl3\n",
    "gtr3\n",
    "\n",
    "\"\"\""
   ]
  },
  {
   "cell_type": "code",
   "execution_count": 24,
   "metadata": {},
   "outputs": [],
   "source": [
    "\n",
    "hdf5_flist = glob.glob('./Outputs/*.h5')\n",
    "f = h5py.File(hdf5_flist[0], 'r')"
   ]
  },
  {
   "cell_type": "code",
   "execution_count": 25,
   "metadata": {},
   "outputs": [
    {
     "data": {
      "text/plain": [
       "<HDF5 file \"processed_ATL06_20181231145919_00480211_001_01.h5\" (mode r)>"
      ]
     },
     "execution_count": 25,
     "metadata": {},
     "output_type": "execute_result"
    }
   ],
   "source": [
    "f"
   ]
  },
  {
   "cell_type": "code",
   "execution_count": 26,
   "metadata": {},
   "outputs": [],
   "source": [
    "f.keys()\n",
    "\n",
    "\"\"\"create empty beam specific dataframes\"\"\"\n",
    "gtl1_df = pd.DataFrame(columns = ['delta_time','lat','lon','h_li','x_atc', 'atl06_quality_summary'])\n",
    "gtr1_df = pd.DataFrame(columns = ['delta_time','lat','lon','h_li','x_atc', 'atl06_quality_summary'])\n",
    "gtl2_df = pd.DataFrame(columns = ['delta_time','lat','lon','h_li','x_atc', 'atl06_quality_summary'])\n",
    "gtr2_df = pd.DataFrame(columns = ['delta_time','lat','lon','h_li','x_atc', 'atl06_quality_summary'])\n",
    "gtl3_df = pd.DataFrame(columns = ['delta_time','lat','lon','h_li','x_atc', 'atl06_quality_summary'])\n",
    "gtr3_df = pd.DataFrame(columns = ['delta_time','lat','lon','h_li','x_atc', 'atl06_quality_summary'])"
   ]
  },
  {
   "cell_type": "code",
   "execution_count": 27,
   "metadata": {},
   "outputs": [],
   "source": [
    "gt1l = f['gt1l']\n",
    "gt1r = f['gt1r']\n",
    "gt2l = f['gt2l']\n",
    "gt2r = f['gt2r']\n",
    "gt3l = f['gt3l']\n",
    "gt3r = f['gt3r']\n",
    "iceseg_gtl1 = gt1l['land_ice_segments']\n",
    "iceseg_gt1r = gt1r['land_ice_segments']\n",
    "iceseg_gt21 = gt2l['land_ice_segments']\n",
    "iceseg_gt2r = gt2r['land_ice_segments']\n",
    "iceseg_gt31 = gt3l['land_ice_segments']\n",
    "iceseg_gt3r = gt3r['land_ice_segments']\n",
    "\n",
    "\n",
    "\n",
    "\"\"\"adding beam specific time to df's\"\"\"\n",
    "gtl1_df['delta_time'] = iceseg_gtl1['delta_time']\n",
    "gtr1_df['delta_time'] = iceseg_gt1r['delta_time']\n",
    "gtl2_df['delta_time'] = iceseg_gt21['delta_time']\n",
    "gtr2_df['delta_time'] = iceseg_gt2r['delta_time']\n",
    "gtl3_df['delta_time'] = iceseg_gt31['delta_time']\n",
    "gtr3_df['delta_time'] = iceseg_gt3r['delta_time']\n",
    "\n",
    "\n",
    "\"\"\"adding beam specific lat to df's\"\"\"\n",
    "gtl1_df['lat'] = iceseg_gtl1['latitude']\n",
    "gtr1_df['lat'] = iceseg_gt1r['latitude']\n",
    "gtl2_df['lat'] = iceseg_gt21['latitude']\n",
    "gtr2_df['lat'] = iceseg_gt2r['latitude']\n",
    "gtl3_df['lat'] = iceseg_gt31['latitude']\n",
    "gtr3_df['lat'] = iceseg_gt3r['latitude']\n",
    "\n",
    "\"\"\"adding beam specific lon to df's\"\"\"\n",
    "gtl1_df['lon'] = iceseg_gtl1['longitude']\n",
    "gtr1_df['lon'] = iceseg_gt1r['longitude']\n",
    "gtl2_df['lon'] = iceseg_gt21['longitude']\n",
    "gtr2_df['lon'] = iceseg_gt2r['longitude']\n",
    "gtl3_df['lon'] = iceseg_gt31['longitude']\n",
    "gtr3_df['lon'] = iceseg_gt3r['longitude']\n",
    "\n",
    "\"\"\"adding beam specific h_li to df's\"\"\"\n",
    "gtl1_df['h_li'] = iceseg_gtl1['h_li']\n",
    "gtr1_df['h_li'] = iceseg_gt1r['h_li']\n",
    "gtl2_df['h_li'] = iceseg_gt21['h_li']\n",
    "gtr2_df['h_li'] = iceseg_gt2r['h_li']\n",
    "gtl3_df['h_li'] = iceseg_gt31['h_li']\n",
    "gtr3_df['h_li'] = iceseg_gt3r['h_li']\n",
    "\n",
    "\"\"\"adding beam specific x_atc to df's\"\"\"\n",
    "gtl1_df['x_atc'] = iceseg_gtl1['ground_track']['x_atc']\n",
    "gtr1_df['x_atc'] = iceseg_gt1r['ground_track']['x_atc']\n",
    "gtl2_df['x_atc'] = iceseg_gt21['ground_track']['x_atc']\n",
    "gtr2_df['x_atc'] = iceseg_gt2r['ground_track']['x_atc']\n",
    "gtl3_df['x_atc'] = iceseg_gt31['ground_track']['x_atc']\n",
    "gtr3_df['x_atc'] = iceseg_gt3r['ground_track']['x_atc']\n",
    "\n",
    "\"\"\"adding quality flag to df's\"\"\"\n",
    "gtl1_df['atl06_quality_summary'] = iceseg_gtl1['atl06_quality_summary']\n",
    "gtr1_df['atl06_quality_summary'] = iceseg_gt1r['atl06_quality_summary']\n",
    "gtl2_df['atl06_quality_summary'] = iceseg_gt21['atl06_quality_summary']\n",
    "gtr2_df['atl06_quality_summary'] = iceseg_gt2r['atl06_quality_summary']\n",
    "gtl3_df['atl06_quality_summary'] = iceseg_gt31['atl06_quality_summary']\n",
    "gtr3_df['atl06_quality_summary'] = iceseg_gt3r['atl06_quality_summary']\n"
   ]
  },
  {
   "cell_type": "code",
   "execution_count": 28,
   "metadata": {},
   "outputs": [],
   "source": [
    "beam1_df = pd.concat([gtl1_df, gtr1_df], axis=1)\n",
    "beam2_df = pd.concat([gtl2_df, gtr2_df], axis=1)\n",
    "beam3_df = pd.concat([gtl3_df, gtr3_df], axis=1)"
   ]
  },
  {
   "cell_type": "code",
   "execution_count": 29,
   "metadata": {},
   "outputs": [],
   "source": [
    "gtl1_df = gtl1_df[gtl1_df['atl06_quality_summary'] == 0]\n",
    "gtr1_df = gtr1_df[gtr1_df['atl06_quality_summary'] == 0]"
   ]
  },
  {
   "cell_type": "code",
   "execution_count": 30,
   "metadata": {},
   "outputs": [],
   "source": [
    "\n",
    "\n",
    "\n",
    "# create a new plot with a title and axis labels\n",
    "p = figure(title=\"atl06\", x_axis_label='x_atc', y_axis_label='h_li', sizing_mode='stretch_both')\n",
    "\n",
    "# add a line renderer with legend and line thickness\n",
    "# p.line(gtl1_df['x_atc'], gtl1_df['h_li'], legend=\"Temp.\", line_width=2)\n",
    "\n",
    "color_list = ['crimson','darkred','cornflowerblue','darkblue','mediumseagreen','darkgreen']\n",
    "\n",
    "\n",
    "p.scatter(gtl1_df['x_atc'], gtl1_df['h_li'],color = color_list[2], size=10, fill_alpha=0.7)\n",
    "p.scatter(gtr1_df['x_atc'], gtr1_df['h_li'], color = color_list[3],size=10, fill_alpha=0.7)\n",
    "\n",
    "\n",
    "\n",
    "# p.scatter(gtl2_df['x_atc'], gtl1_df['h_li'], color = color_list[],size=10, fill_alpha=0.8)\n",
    "# p.scatter(gtr2_df['x_atc'], gtr1_df['h_li'], color = color_list[],size=10, fill_alpha=0.8)\n",
    "# p.scatter(gtl3_df['x_atc'], gtl1_df['h_li'], color = color_list[],size=10, fill_alpha=0.8)\n",
    "# p.scatter(gtr3_df['x_atc'], gtr1_df['h_li'], color = color_list[],size=10, fill_alpha=0.8)\n",
    "# p.scatter(gtl1_df['lat'], gtl1_df['lon'], size=10, fill_alpha=0.8)\n",
    "# show the results\n",
    "show(p)"
   ]
  },
  {
   "cell_type": "code",
   "execution_count": null,
   "metadata": {},
   "outputs": [],
   "source": []
  },
  {
   "cell_type": "code",
   "execution_count": null,
   "metadata": {},
   "outputs": [],
   "source": []
  },
  {
   "cell_type": "code",
   "execution_count": null,
   "metadata": {},
   "outputs": [],
   "source": []
  },
  {
   "cell_type": "code",
   "execution_count": null,
   "metadata": {},
   "outputs": [],
   "source": []
  },
  {
   "cell_type": "code",
   "execution_count": null,
   "metadata": {},
   "outputs": [],
   "source": []
  },
  {
   "cell_type": "code",
   "execution_count": null,
   "metadata": {},
   "outputs": [],
   "source": []
  },
  {
   "cell_type": "code",
   "execution_count": null,
   "metadata": {},
   "outputs": [],
   "source": []
  },
  {
   "cell_type": "code",
   "execution_count": null,
   "metadata": {},
   "outputs": [],
   "source": []
  },
  {
   "cell_type": "code",
   "execution_count": null,
   "metadata": {},
   "outputs": [],
   "source": []
  },
  {
   "cell_type": "code",
   "execution_count": null,
   "metadata": {},
   "outputs": [],
   "source": []
  },
  {
   "cell_type": "code",
   "execution_count": null,
   "metadata": {},
   "outputs": [],
   "source": []
  }
 ],
 "metadata": {
  "kernelspec": {
   "display_name": "Python 3",
   "language": "python",
   "name": "python3"
  },
  "language_info": {
   "codemirror_mode": {
    "name": "ipython",
    "version": 3
   },
   "file_extension": ".py",
   "mimetype": "text/x-python",
   "name": "python",
   "nbconvert_exporter": "python",
   "pygments_lexer": "ipython3",
   "version": "3.7.3"
  }
 },
 "nbformat": 4,
 "nbformat_minor": 2
}
