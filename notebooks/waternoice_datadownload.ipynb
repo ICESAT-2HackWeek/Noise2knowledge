{
 "cells": [
  {
   "cell_type": "markdown",
   "metadata": {},
   "source": [
    "# Overall Workflow to Download Datasets for Regions of Interest\n",
    "\n",
    "## Regions of Interest\n",
    "- RBIS (Antarctica)\n",
    "- Amery (Antarctica)\n",
    "- Store Glacier (Greenland)\n",
    "- Mega Dunes (Antarctica)\n",
    "- Firn Aquifers (E. Greenland)\n",
    "\n",
    "This notebook is based on the NSIDC DAAC ICESat-2 Customize and Access by Amy Steiker from ICESat-2 Hackweek"
   ]
  },
  {
   "cell_type": "code",
   "execution_count": null,
   "metadata": {},
   "outputs": [],
   "source": []
  }
 ],
 "metadata": {
  "kernelspec": {
   "display_name": "Python 3",
   "language": "python",
   "name": "python3"
  },
  "language_info": {
   "codemirror_mode": {
    "name": "ipython",
    "version": 3
   },
   "file_extension": ".py",
   "mimetype": "text/x-python",
   "name": "python",
   "nbconvert_exporter": "python",
   "pygments_lexer": "ipython3",
   "version": "3.6.7"
  }
 },
 "nbformat": 4,
 "nbformat_minor": 2
}
