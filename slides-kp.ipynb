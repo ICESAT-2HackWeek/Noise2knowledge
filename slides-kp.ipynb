{
 "cells": [
  {
   "cell_type": "markdown",
   "metadata": {},
   "source": [
    "### How do mid-winter ATL03 returns differ in areas where subsurface water seeps to the (near) surface?\n",
    "\n",
    "We looked at the East Greenland firn aquifer, near Helheim Glacier, where Sentinel-1 images show liquid water (dark) near the surface even in winter.\n",
    "\n",
    "The image below is a Sentinel-1 scene from December 29, 2018, a surface DEM, and the ICESat-2 tracks from December 27, 2018.\n",
    "\n",
    "Dark areas are \"firn aquifer seeps\", where the subsurface water table rises to the surface, or near the surface.  These are analogous to ponds, springs, or seeps in the terrestrial water table.  They occur in local areas with low surface slopes.\n",
    "\n",
    "Since the underlying firn aquifer water table remains liquid year-round, these seeps likely also contain liquid water in with the firn."
   ]
  },
  {
   "cell_type": "code",
   "execution_count": 13,
   "metadata": {},
   "outputs": [
    {
     "data": {
      "text/html": [
       "<iframe src=\"notebooks/Scene-seeps-small-helheim.png\" frameborder=0 height=\"600px\" width=\"100%\" >></iframe"
      ],
      "text/plain": [
       "<IPython.core.display.HTML object>"
      ]
     },
     "execution_count": 13,
     "metadata": {},
     "output_type": "execute_result"
    }
   ],
   "source": [
    "from IPython.display import HTML\n",
    "HTML('<iframe src=\"notebooks/Scene-seeps-small-helheim.png\" frameborder=0 height=\"600px\" width=\"100%\" >></iframe')"
   ]
  },
  {
   "cell_type": "markdown",
   "metadata": {},
   "source": [
    "## Do these seeps (near-surface liquid water) look different to ICESat-2 (ATL03) than does the surrounding ice (without liquid water)?\n",
    "\n",
    "We began to investigate this question using tools from the hackweek:\n",
    "+ Amy Steiker's subsetter / download tool\n",
    "+ Tyler Sutterly's ATL03 reader\n",
    "+ Ben Smith's selector and plotting tools"
   ]
  },
  {
   "cell_type": "code",
   "execution_count": 14,
   "metadata": {},
   "outputs": [
    {
     "data": {
      "text/html": [
       "<iframe src=\"notebooks/slide1-kp.png\" frameborder=0 height=\"600px\" width=\"100%\" >></iframe"
      ],
      "text/plain": [
       "<IPython.core.display.HTML object>"
      ]
     },
     "execution_count": 14,
     "metadata": {},
     "output_type": "execute_result"
    }
   ],
   "source": [
    "from IPython.display import HTML\n",
    "HTML('<iframe src=\"notebooks/slide1-kp.png\" frameborder=0 height=\"600px\" width=\"100%\" >></iframe')"
   ]
  },
  {
   "cell_type": "code",
   "execution_count": null,
   "metadata": {},
   "outputs": [],
   "source": []
  }
 ],
 "metadata": {
  "kernelspec": {
   "display_name": "Python 3",
   "language": "python",
   "name": "python3"
  },
  "language_info": {
   "codemirror_mode": {
    "name": "ipython",
    "version": 3
   },
   "file_extension": ".py",
   "mimetype": "text/x-python",
   "name": "python",
   "nbconvert_exporter": "python",
   "pygments_lexer": "ipython3",
   "version": "3.6.7"
  }
 },
 "nbformat": 4,
 "nbformat_minor": 2
}
